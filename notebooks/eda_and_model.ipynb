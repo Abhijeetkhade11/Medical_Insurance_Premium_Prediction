{
 "cells": [
  {
   "cell_type": "markdown",
   "metadata": {},
   "source": [
    "# Medical Insurance — EDA and Model\n",
    "Notebook to explore the dataset and train a baseline model."
   ]
  },
  {
   "cell_type": "code",
   "execution_count": null,
   "metadata": {},
   "outputs": [],
   "source": [
    "import pandas as pd\n",
    "import numpy as np\n",
    "import seaborn as sns\n",
    "import matplotlib.pyplot as plt\n",
    "from pathlib import Path\n",
    "ROOT = Path.cwd().parents[0] if (Path.cwd()/ 'insurance.csv').exists() else Path.cwd()\n",
    "df = pd.read_csv(ROOT / 'insurance.csv')\n",
    "df.head()"
   ]
  },
  {
   "cell_type": "code",
   "execution_count": null,
   "metadata": {},
   "outputs": [],
   "source": [
    "df.describe(include='all')"
   ]
  },
  {
   "cell_type": "code",
   "execution_count": null,
   "metadata": {},
   "outputs": [],
   "source": [
    "fig, axes = plt.subplots(1,3, figsize=(12,3))\n",
    "sns.histplot(df['age'], ax=axes[0], kde=True)\n",
    "sns.histplot(df['bmi'], ax=axes[1], kde=True)\n",
    "sns.histplot(df['charges'], ax=axes[2], kde=True)\n",
    "plt.tight_layout()\n",
    "plt.show()"
   ]
  },
  {
   "cell_type": "code",
   "execution_count": null,
   "metadata": {},
   "outputs": [],
   "source": [
    "from sklearn.compose import ColumnTransformer\n",
    "from sklearn.preprocessing import OneHotEncoder, StandardScaler\n",
    "from sklearn.pipeline import Pipeline\n",
    "from sklearn.model_selection import train_test_split\n",
    "from sklearn.ensemble import GradientBoostingRegressor\n",
    "from sklearn.metrics import mean_absolute_error, r2_score\n",
    "import joblib\n",
    "\n",
    "target = 'charges'\n",
    "X = df.drop(columns=[target])\n",
    "y = df[target]\n",
    "num = X.select_dtypes(include=[np.number]).columns\n",
    "cat = X.select_dtypes(exclude=[np.number]).columns\n",
    "pre = ColumnTransformer([('num', Pipeline([('sc', StandardScaler())]), num), ('cat', OneHotEncoder(handle_unknown='ignore'), cat)])\n",
    "model = GradientBoostingRegressor(random_state=42)\n",
    "pipe = Pipeline([('pre', pre), ('model', model)])\n",
    "Xtr, Xte, ytr, yte = train_test_split(X, y, test_size=0.2, random_state=42)\n",
    "pipe.fit(Xtr, ytr)\n",
    "pred = pipe.predict(Xte)\n",
    "mae = mean_absolute_error(yte, pred)\n",
    "r2 = r2_score(yte, pred)\n",
    "mae, r2\n"
   ]
  }
 ],
 "metadata": {
  "kernelspec": {
   "display_name": "Python 3",
   "language": "python",
   "name": "python3"
  },
  "language_info": {
   "name": "python",
   "version": "3.x"
  }
 },
 "nbformat": 4,
 "nbformat_minor": 5
}
